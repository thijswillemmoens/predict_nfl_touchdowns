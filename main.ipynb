{
 "cells": [
  {
   "cell_type": "code",
   "execution_count": 10,
   "metadata": {},
   "outputs": [],
   "source": [
    "import os \n",
    "import pandas as pd \n",
    "import numpy as np \n",
    "import matplotlib.pyplot as plt \n",
    "import seaborn as sns "
   ]
  },
  {
   "cell_type": "code",
   "execution_count": 18,
   "metadata": {},
   "outputs": [
    {
     "name": "stdout",
     "output_type": "stream",
     "text": [
      "['season=2019', 'season=2021', 'season=2020']\n"
     ]
    }
   ],
   "source": [
    "# Set a path to the data\n",
    "project_dir = \"data\"\n",
    "\n",
    "# Explore folders\n",
    "season_folders = os.listdir(f\"{project_dir}\")\n",
    "print(season_folders)\n"
   ]
  },
  {
   "cell_type": "code",
   "execution_count": 19,
   "metadata": {},
   "outputs": [
    {
     "name": "stdout",
     "output_type": "stream",
     "text": [
      "['play_by_play_2019.csv']\n"
     ]
    }
   ],
   "source": [
    "# Show content of folders\n",
    "in_dir = os.listdir(f\"{project_dir}/{season_folders[0]}\")\n",
    "print(in_dir)"
   ]
  },
  {
   "cell_type": "code",
   "execution_count": 20,
   "metadata": {},
   "outputs": [],
   "source": [
    "target_seasons = [x for x in season_folders \n",
    "                  if ('2019' in x) | \n",
    "                  ('2020' in x) | \n",
    "                  ('2021' in x)]"
   ]
  },
  {
   "cell_type": "code",
   "execution_count": 21,
   "metadata": {},
   "outputs": [
    {
     "name": "stdout",
     "output_type": "stream",
     "text": [
      "['data/season=2019/play_by_play_2019.csv', 'data/season=2021/play_by_play_2021.csv', 'data/season=2020/play_by_play_2020.csv']\n"
     ]
    }
   ],
   "source": [
    "# Create path url's\n",
    "data_files = ([f\"\"\"{project_dir}/{data_folder}/{os.listdir(f\"{project_dir}/{data_folder}\")[0]}\"\"\" \n",
    "               for data_folder in target_seasons])\n",
    "\n",
    "print(data_files)"
   ]
  }
 ],
 "metadata": {
  "kernelspec": {
   "display_name": "base",
   "language": "python",
   "name": "python3"
  },
  "language_info": {
   "codemirror_mode": {
    "name": "ipython",
    "version": 3
   },
   "file_extension": ".py",
   "mimetype": "text/x-python",
   "name": "python",
   "nbconvert_exporter": "python",
   "pygments_lexer": "ipython3",
   "version": "3.11.7"
  }
 },
 "nbformat": 4,
 "nbformat_minor": 2
}
